{
 "cells": [
  {
   "cell_type": "markdown",
   "metadata": {},
   "source": [
    "# Erstellen der Black- und Whitelist"
   ]
  },
  {
   "cell_type": "markdown",
   "metadata": {},
   "source": [
    "## Laden"
   ]
  },
  {
   "cell_type": "code",
   "execution_count": 2,
   "metadata": {},
   "outputs": [
    {
     "name": "stdout",
     "output_type": "stream",
     "text": [
      "[['allhiphop.us.intellitxt.com', 0], ['google.com', 1], ['demo-service.adtelligence.de', 0]]\n"
     ]
    }
   ],
   "source": [
    "import csv\n",
    "with open('combined_malicious_and_normal.csv', 'r') as csvfile:\n",
    "    csvtext = csvfile.readlines()\n",
    "\n",
    "simulationsdatensatz = []\n",
    "for line in csvtext:\n",
    "    simulationsdatensatz.append(tuple(line.strip().split(', '))[0])\n",
    "    \n",
    "X = []\n",
    "for line in csvtext:\n",
    "    X.append(tuple(line.strip().split(', '))[0])\n",
    "\n",
    "## Zugehörigkeit speichern (maliziös|ok)\n",
    "#ok = 1 \n",
    "#maliziös = 0\n",
    "ground_truth = list()\n",
    "for i in range(len(simulationsdatensatz)):\n",
    "    if(i%2 == 0):\n",
    "        ground_truth.append([simulationsdatensatz[i],0])\n",
    "    else:\n",
    "        ground_truth.append([simulationsdatensatz[i],1])\n",
    "simulationsdatensatz = ground_truth\n",
    "del ground_truth\n",
    "print(simulationsdatensatz[:3])"
   ]
  },
  {
   "cell_type": "markdown",
   "metadata": {},
   "source": [
    "## Ergebnisse wieder anfügen für jeden Eintrag der Liste"
   ]
  },
  {
   "cell_type": "code",
   "execution_count": 2,
   "metadata": {},
   "outputs": [
    {
     "name": "stdout",
     "output_type": "stream",
     "text": [
      "[0, 1, 0]\n"
     ]
    }
   ],
   "source": [
    "#Der erste Eintrag der kombinierten Liste ist maliziös. Ab da an alternierend.\n",
    "#0 = malicious\n",
    "#1 = good\n",
    "\n",
    "y = []\n",
    "for i in range(len(X)):\n",
    "    if(i%2 == 0):\n",
    "        y.append(0)\n",
    "    else:\n",
    "        y.append(1)\n",
    "print(y[:3])"
   ]
  },
  {
   "cell_type": "markdown",
   "metadata": {},
   "source": [
    "# Blacklist und Whitelist erstellen"
   ]
  },
  {
   "cell_type": "code",
   "execution_count": 3,
   "metadata": {},
   "outputs": [
    {
     "name": "stdout",
     "output_type": "stream",
     "text": [
      "Length Blacklist:515844\n",
      "Length Testset:128961\n",
      "['allhiphop.us.intellitxt.com', 'google.com', 'demo-service.adtelligence.de', 'youtube.com', 'mkt5128.com', 'tmall.com']\n",
      "['allhiphop.us.intellitxt.com', 'demo-service.adtelligence.de', 'mkt5128.com']\n",
      "['google.com', 'youtube.com', 'tmall.com']\n"
     ]
    }
   ],
   "source": [
    "import math  \n",
    "\n",
    "#80% des Datensatzes nehmen und diesen als Grundlage der Blacklist verwenden.\n",
    "length_blacklist = math.floor(0.8 * len(X))\n",
    "length_testset = len(X)-length_blacklist\n",
    "\n",
    "#Blacklist erstellen. Jeder maliziöse Inhalt des 80%igen Datensatzes wird zu einem Eintrag.\n",
    "dataset_candidates = X[:length_blacklist].copy()\n",
    "dataset_candidates_y = y[:length_blacklist].copy()\n",
    "testset = X[length_blacklist:].copy()\n",
    "testset_y = y[:length_blacklist].copy()\n",
    "\n",
    "print(\"Length Blacklist:\" + str(len(dataset_candidates)))\n",
    "print(\"Length Testset:\" + str(len(testset)))\n",
    "\n",
    "blacklist = list()\n",
    "for i in range(len(dataset_candidates_y)):\n",
    "    if dataset_candidates_y[i] == 0: # 0 = maliziös, 1 = ok\n",
    "        \n",
    "        blacklist.append(dataset_candidates[i])\n",
    "\n",
    "whitelist = list()\n",
    "for i in range(len(dataset_candidates_y)):\n",
    "    if dataset_candidates_y[i] == 1: # 0 = maliziös, 1 = ok\n",
    "        whitelist.append(dataset_candidates[i])\n",
    "\n",
    "print(dataset_candidates[:6])\n",
    "print(blacklist[:3])\n",
    "print(whitelist[:3])\n",
    "\n",
    "#Arbeitsspeicher freigeben für nicht mehr genutzte temporäre Listen\n",
    "del dataset_candidates\n",
    "del dataset_candidates_y\n",
    "\n",
    "#blacklist und whitelist speichern\n",
    "with open('blacklist_80percent.csv', \"w\") as outfile:\n",
    "    for entries in blacklist:\n",
    "        outfile.write(entries)\n",
    "        outfile.write(\"\\n\")\n",
    "with open('whitelist_80percent.csv', \"w\") as outfile:\n",
    "    for entries in whitelist:\n",
    "        outfile.write(entries)\n",
    "        outfile.write(\"\\n\")       "
   ]
  },
  {
   "cell_type": "code",
   "execution_count": null,
   "metadata": {},
   "outputs": [],
   "source": []
  }
 ],
 "metadata": {
  "kernelspec": {
   "display_name": "Python 3",
   "language": "python",
   "name": "python3"
  },
  "language_info": {
   "codemirror_mode": {
    "name": "ipython",
    "version": 3
   },
   "file_extension": ".py",
   "mimetype": "text/x-python",
   "name": "python",
   "nbconvert_exporter": "python",
   "pygments_lexer": "ipython3",
   "version": "3.7.3"
  }
 },
 "nbformat": 4,
 "nbformat_minor": 4
}
