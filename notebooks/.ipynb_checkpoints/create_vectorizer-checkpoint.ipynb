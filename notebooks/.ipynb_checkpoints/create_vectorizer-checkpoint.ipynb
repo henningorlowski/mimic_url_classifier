{
 "cells": [
  {
   "cell_type": "markdown",
   "metadata": {},
   "source": [
    "# Training des ML-Algorithmus"
   ]
  },
  {
   "cell_type": "markdown",
   "metadata": {},
   "source": [
    "## Laden"
   ]
  },
  {
   "cell_type": "code",
   "execution_count": 1,
   "metadata": {},
   "outputs": [],
   "source": [
    "import csv\n",
    "import numpy as np\n",
    "\n",
    "#time.sleep(60*60*14)\n",
    "\n",
    "with open('combined_malicious_and_normal.csv', 'r') as csvfile:\n",
    "    csvtext = csvfile.readlines()\n",
    "\n",
    "X = []\n",
    "for line in csvtext:\n",
    "    X.append(tuple(line.strip().split(', '))[0])"
   ]
  },
  {
   "cell_type": "markdown",
   "metadata": {},
   "source": [
    "## URL's vektorisieren"
   ]
  },
  {
   "cell_type": "code",
   "execution_count": 2,
   "metadata": {
    "scrolled": true
   },
   "outputs": [],
   "source": [
    "from sklearn.feature_extraction.text import CountVectorizer\n",
    "import time\n",
    "\n",
    "def vectorize(n_gram_min, n_gram_max, data, amount_of_params):\n",
    "    data = copy.deepcopy(data)\n",
    "    vectorizer = CountVectorizer(analyzer='word', token_pattern='.*', max_features = amount_of_params, ngram_range=(n_gram_min, n_gram_max))\n",
    "    start_time_fit = time.time()\n",
    "    vectorizer.fit(data)\n",
    "    end_time_fit = time.time()\n",
    "    time_for_fit = end_time_fit - start_time_fit\n",
    "    start_time_transform = time.time()\n",
    "    data = vectorizer.transform(data)\n",
    "    end_time_transform = time.time()\n",
    "    time_for_transform = end_time_transform - start_time_transform\n",
    "    print(\"time_for_fit:\" + str(time_for_fit))\n",
    "    print(\"time_for_transform:\" + str(time_for_transform))   \n",
    "    return data, vectorizer"
   ]
  },
  {
   "cell_type": "markdown",
   "metadata": {},
   "source": [
    "## Datensatz bearbeiten"
   ]
  },
  {
   "cell_type": "code",
   "execution_count": 3,
   "metadata": {},
   "outputs": [
    {
     "name": "stdout",
     "output_type": "stream",
     "text": [
      "lenght_total:642842\n",
      "max_count_80percent:514274\n",
      "check_length_max_count_80percent:514274\n",
      "Vektorisiere..\n",
      "time_for_fit:8.01162600517273\n",
      "time_for_transform:5.745962619781494\n",
      "----\n"
     ]
    }
   ],
   "source": [
    "import pickle as cPickle\n",
    "import copy\n",
    "\n",
    "def filter_numbers(data):\n",
    "    function_data = copy.copy(data)\n",
    "    function_data = [item.replace('0', '1') for item in function_data]\n",
    "    function_data = [item.replace('2', '1') for item in function_data]\n",
    "    function_data = [item.replace('3', '1') for item in function_data]\n",
    "    function_data = [item.replace('4', '1') for item in function_data]\n",
    "    function_data = [item.replace('5', '1') for item in function_data]\n",
    "    function_data = [item.replace('6', '1') for item in function_data]\n",
    "    function_data = [item.replace('7', '1') for item in function_data]\n",
    "    function_data = [item.replace('8', '1') for item in function_data]\n",
    "    function_data = [item.replace('9', '1') for item in function_data]\n",
    "    return function_data\n",
    "\n",
    "#params determined in previous tests\n",
    "n_gram_min = -2\n",
    "n_gram_max = 3\n",
    "amount_of_params = 1664\n",
    "\n",
    "print(\"lenght_total:\" + str(len(X)))\n",
    "max_count_80percent = int(round(len(X)*0.8, 0))\n",
    "print(\"max_count_80percent:\" + str(max_count_80percent))\n",
    "X_80 = copy.deepcopy(X)\n",
    "del X_80[max_count_80percent:]\n",
    "X_Raw = filter_numbers(X_80)\n",
    "print(\"check_length_max_count_80percent:\" + str(len(X_Raw)))\n",
    "print(\"Vektorisiere..\")\n",
    "Z, vectorizer = vectorize(n_gram_min, n_gram_max, X_Raw, amount_of_params)\n",
    "# Vectorizer speichern\n",
    "with open('dictionary_80percent.pkl', 'wb') as fid:\n",
    "    cPickle.dump(vectorizer, fid) \n",
    "print(\"----\")"
   ]
  }
 ],
 "metadata": {
  "kernelspec": {
   "display_name": "Python 3 (ipykernel)",
   "language": "python",
   "name": "python3"
  },
  "language_info": {
   "codemirror_mode": {
    "name": "ipython",
    "version": 3
   },
   "file_extension": ".py",
   "mimetype": "text/x-python",
   "name": "python",
   "nbconvert_exporter": "python",
   "pygments_lexer": "ipython3",
   "version": "3.9.7"
  }
 },
 "nbformat": 4,
 "nbformat_minor": 4
}
